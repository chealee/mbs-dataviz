{
 "cells": [
  {
   "cell_type": "code",
   "execution_count": null,
   "metadata": {},
   "outputs": [],
   "source": [
    "import matplotlib.pyplot as plt\n",
    "%matplotlib notebook"
   ]
  },
  {
   "cell_type": "code",
   "execution_count": null,
   "metadata": {},
   "outputs": [],
   "source": [
    "from bokeh.plotting import output_notebook\n",
    "output_notebook()"
   ]
  },
  {
   "cell_type": "markdown",
   "metadata": {},
   "source": [
    "# Hovering\n",
    "\n",
    "Bokeh has simple hovering to make it easy to drill down on your data:\n"
   ]
  },
  {
   "cell_type": "code",
   "execution_count": null,
   "metadata": {},
   "outputs": [],
   "source": [
    "from bokeh.plotting import figure, show, output_notebook\n",
    "from bokeh.sampledata.iris import flowers\n",
    "\n",
    "colormap = {'setosa': 'red', 'versicolor': 'green', 'virginica': 'blue'}\n",
    "colors = [colormap[x] for x in flowers['species']]\n",
    "\n",
    "tools='hover,pan,box_zoom,save'\n",
    "\n",
    "p = figure(title = \"Iris Morphology\", tools=tools)\n",
    "p.xaxis.axis_label = 'Petal Length'\n",
    "p.yaxis.axis_label = 'Petal Width'\n",
    "\n",
    "p.circle(flowers[\"petal_length\"], flowers[\"petal_width\"],\n",
    "         color=colors, fill_alpha=0.2, size=10)\n",
    "\n",
    "output_notebook()\n",
    "show(p)"
   ]
  },
  {
   "cell_type": "markdown",
   "metadata": {
    "collapsed": true
   },
   "source": [
    "By default, Bokeh uses the *index* of the input dataframe in its hover panel.\n",
    "\n",
    "## Exercise\n",
    "\n",
    "- Load the cars dataset\n",
    "- Add a column, \"car year\" that contains both the car model and the year. \n",
    "- Set that column as the index\n",
    "- then use the Hover tool as above to show car mpg vs weight.\n"
   ]
  },
  {
   "cell_type": "code",
   "execution_count": null,
   "metadata": {
    "collapsed": true
   },
   "outputs": [],
   "source": []
  },
  {
   "cell_type": "markdown",
   "metadata": {},
   "source": [
    "# Custom hover tips"
   ]
  },
  {
   "cell_type": "markdown",
   "metadata": {},
   "source": [
    "Rather than setting the index, Bokeh lets you customize the hover tooltip itself, but it's a bit more verbose. On the plus side, any valid html [can be a tooltip](https://github.com/jni/blob-explorer/blob/bd9fa676a2a23317e2ea84bdf48b19e71b9e75d4/picker.py#L120), which means that you can actually embed images in the tooltip. This is great for exploring image data. (Though we won't see this here.)"
   ]
  },
  {
   "cell_type": "code",
   "execution_count": null,
   "metadata": {
    "collapsed": true
   },
   "outputs": [],
   "source": [
    "from bokeh.models import HoverTool\n",
    "\n",
    "# make sure color is its own column\n",
    "flowers['colors'] = colors\n",
    "\n",
    "tools='hover,pan,box_zoom,save'\n",
    "\n",
    "p = figure(title = \"Iris Morphology\", tools=tools)\n",
    "p.xaxis.axis_label = 'Petal Length'\n",
    "p.yaxis.axis_label = 'Petal Width'\n",
    "\n",
    "p.circle('petal_width', 'petal_length', source=flowers,\n",
    "         color='colors', fill_alpha=0.2, size=10)\n",
    "\n",
    "# grab the hover tool and change the tooltip\n",
    "p.select_one(HoverTool).tooltips = [\n",
    "    #(\"tooltip name\", \"@column name\"),\n",
    "    (\"Species\", \"@species\"),\n",
    "    (\"Sepal length\", \"@sepal_length\"),\n",
    "    (\"Sepal width\", \"@sepal_width\"),\n",
    "    (\"Petal length\", \"@petal_length\"),\n",
    "    (\"Petal width\", \"@petal_width\"),\n",
    "]\n",
    "\n",
    "show(p) "
   ]
  },
  {
   "cell_type": "markdown",
   "metadata": {},
   "source": [
    "# Linked brushing\n",
    "\n",
    "Sometimes the identity of points in different points can be traced by *linked brushing*, selecting a subset of data between different plots. Bokeh does this transparently as long as different figures share the same data source:"
   ]
  },
  {
   "cell_type": "code",
   "execution_count": null,
   "metadata": {
    "collapsed": true
   },
   "outputs": [],
   "source": [
    "from bokeh.layouts import gridplot\n",
    "from bokeh.models import ColumnDataSource\n",
    "from bokeh.plotting import figure\n",
    "\n",
    "x = list(range(-20, 21))\n",
    "y0 = [abs(xx) for xx in x]\n",
    "y1 = [xx**2 for xx in x]\n",
    "\n",
    "# create a column data source for the plots to share\n",
    "source = ColumnDataSource(data=dict(x=x, y0=y0, y1=y1))\n",
    "\n",
    "TOOLS = \"pan,box_select,lasso_select,reset,save\"\n",
    "\n",
    "# create a new plot and add a renderer\n",
    "left = figure(tools=TOOLS, plot_width=300, plot_height=300, title=None)\n",
    "left.circle('x', 'y0', source=source)\n",
    "\n",
    "# create another new plot and add a renderer\n",
    "right = figure(tools=TOOLS, plot_width=300, plot_height=300, title=None)\n",
    "right.circle('x', 'y1', source=source)\n",
    "\n",
    "p = gridplot([[left, right]])\n",
    "\n",
    "show(p)"
   ]
  },
  {
   "cell_type": "markdown",
   "metadata": {},
   "source": [
    "## Exercise\n",
    "\n",
    "- Draw two scatterplots from the cars dataset, using linked brushing.\n",
    "- Repeat the asteroids visualization using Bokeh hover (show the asteroid \"moID\" at least), and using linked brushing. You may or may not want to set the background etc."
   ]
  },
  {
   "cell_type": "code",
   "execution_count": null,
   "metadata": {
    "collapsed": true
   },
   "outputs": [],
   "source": []
  },
  {
   "cell_type": "markdown",
   "metadata": {},
   "source": [
    "## Gapminder and JS interactions\n",
    "\n",
    "Bokeh can build interactions into the browser using just a bit of javascript."
   ]
  },
  {
   "cell_type": "code",
   "execution_count": null,
   "metadata": {
    "collapsed": true
   },
   "outputs": [],
   "source": [
    "gapminder = pd.read_csv('data/gapminderDataFiveYear.csv')"
   ]
  },
  {
   "cell_type": "code",
   "execution_count": null,
   "metadata": {
    "collapsed": true
   },
   "outputs": [],
   "source": [
    "from bokeh.io import show\n",
    "\n",
    "from bokeh.models import (Text, Plot, Slider, Circle, Range1d,\n",
    "                          CustomJS, HoverTool, LinearAxis,\n",
    "                          ColumnDataSource, SingleIntervalTicker)\n",
    "\n",
    "from bokeh.palettes import Spectral6\n"
   ]
  },
  {
   "cell_type": "code",
   "execution_count": null,
   "metadata": {},
   "outputs": [],
   "source": [
    "scaling  = 200\n",
    "gapminder['popsize'] = np.sqrt(gapminder['pop'] /\n",
    "                               np.pi) / scaling\n",
    "min_size = 3\n",
    "gapminder['popsize'] = gapminder['popsize'].where(\n",
    "              gapminder['popsize'] >= min_size, other=np.nan\n",
    "              ).fillna(min_size)\n"
   ]
  },
  {
   "cell_type": "code",
   "execution_count": null,
   "metadata": {},
   "outputs": [],
   "source": [
    "region_list = sorted(set(gapminder['continent']))\n",
    "region_dict = dict(zip(region_list, range(len(region_list))))\n",
    "\n",
    "def get_color(r):\n",
    "    return Spectral6[region_dict[r]]\n",
    "\n",
    "gapminder['regcolor'] = gapminder['continent'].apply(get_color)"
   ]
  },
  {
   "cell_type": "code",
   "execution_count": null,
   "metadata": {
    "collapsed": true
   },
   "outputs": [],
   "source": [
    "gapminder['loggdpcap'] = np.log10(gapminder['gdpPercap'] + 1)"
   ]
  },
  {
   "cell_type": "code",
   "execution_count": null,
   "metadata": {
    "collapsed": true
   },
   "outputs": [],
   "source": [
    "years = sorted(set(gapminder['year']))\n",
    "\n",
    "sources = {}\n",
    "\n",
    "for year, table in gapminder.groupby('year'):\n",
    "    sources[f'_{year}'] = ColumnDataSource(table)"
   ]
  },
  {
   "cell_type": "code",
   "execution_count": null,
   "metadata": {},
   "outputs": [],
   "source": [
    "xdr = Range1d(0.95 * np.min(gapminder['loggdpcap']),\n",
    "              1.05 * np.max(gapminder['loggdpcap']))\n",
    "ydr = Range1d(0.99 * np.min(gapminder['lifeExp']),\n",
    "              1.05 * np.max(gapminder['lifeExp']))\n",
    "\n",
    "plot = Plot(\n",
    "    x_range=xdr,\n",
    "    y_range=ydr,\n",
    "    plot_width=800,\n",
    "    plot_height=400,\n",
    "    outline_line_color=None,\n",
    "    toolbar_location=None,\n",
    "    min_border=20,\n",
    ")\n"
   ]
  },
  {
   "cell_type": "code",
   "execution_count": null,
   "metadata": {
    "collapsed": true
   },
   "outputs": [],
   "source": [
    "# build axes\n",
    "xaxis = LinearAxis(\n",
    "    ticker     = SingleIntervalTicker(interval=1),\n",
    "    axis_label = \"log10(gdp per capita)\"\n",
    ")\n",
    "yaxis = LinearAxis(\n",
    "    ticker     = SingleIntervalTicker(interval=20),\n",
    "    axis_label = \"Life expectancy at birth (years)\"\n",
    ")   \n",
    "\n",
    "plot.add_layout(xaxis, 'below')\n",
    "plot.add_layout(yaxis, 'left')\n"
   ]
  },
  {
   "cell_type": "code",
   "execution_count": null,
   "metadata": {},
   "outputs": [],
   "source": [
    "text_source = ColumnDataSource({'year': [f'{years[0]}']})\n",
    "text        = Text(\n",
    "                  x=2.5, y=35, text='year',\n",
    "                  text_font_size='150pt',\n",
    "                  text_color='#EEEEEE'\n",
    "                  )\n",
    "plot.add_glyph(text_source, text);\n"
   ]
  },
  {
   "cell_type": "code",
   "execution_count": null,
   "metadata": {},
   "outputs": [],
   "source": [
    "renderer_source = sources[f'_{years[0]}']\n",
    "circle_glyph    = Circle(\n",
    "                    x='loggdpcap', y='lifeExp',\n",
    "                    size='popsize', fill_alpha=0.8,\n",
    "                    fill_color='regcolor',\n",
    "                    line_color='#7c7e71',\n",
    "                    line_width=0.5, line_alpha=0.5\n",
    "                    )\n",
    "\n",
    "circle_renderer = plot.add_glyph(renderer_source, circle_glyph)\n"
   ]
  },
  {
   "cell_type": "code",
   "execution_count": null,
   "metadata": {
    "collapsed": true
   },
   "outputs": [],
   "source": [
    "# Add hover for the circle (not other plot elements)\n",
    "tooltips = \"@country\"\n",
    "plot.add_tools(HoverTool(\n",
    "                  tooltips=tooltips,\n",
    "                  renderers=[circle_renderer]\n",
    "                  )\n",
    "              )"
   ]
  },
  {
   "cell_type": "code",
   "execution_count": null,
   "metadata": {},
   "outputs": [],
   "source": [
    "# add the legend. x and y are data coordinates.\n",
    "\n",
    "text_x = 4.5\n",
    "text_y = 60\n",
    "for i, region in enumerate(sorted(set(gapminder['continent']))):\n",
    "    plot.add_glyph(Text(\n",
    "                      x=text_x, y=text_y,\n",
    "                      text=[region],\n",
    "                      text_font_size='10pt',\n",
    "                      text_color='#666666'\n",
    "                      )\n",
    "                  )\n",
    "    plot.add_glyph(Circle(\n",
    "                      x=text_x - 0.1,\n",
    "                      y=text_y + 2,\n",
    "                      fill_color=Spectral6[i],\n",
    "                      line_color=None,\n",
    "                      fill_alpha=0.8,\n",
    "                      size=10,\n",
    "                      )\n",
    "                  )\n",
    "    text_y -= 5  # move on to next legend text"
   ]
  },
  {
   "cell_type": "code",
   "execution_count": null,
   "metadata": {},
   "outputs": [],
   "source": [
    "# Add the slider. This requires some js munging\n",
    "dict_of_sources = {x: f'_{x}' for x in years}\n",
    "\n",
    "js_source_array = str(dict_of_sources).replace(\"'\", \"\")\n",
    "\n",
    "code = \"\"\"\n",
    "    var year = slider.get('value'),\n",
    "        sources = %s,\n",
    "        new_source_data = sources[year].get('data');\n",
    "    renderer_source.set('data', new_source_data);\n",
    "    text_source.set('data', {'year': [String(year)]});\n",
    "\"\"\" % js_source_array\n",
    "\n",
    "callback = CustomJS(args=sources, code=code)\n",
    "slider   = Slider(\n",
    "              start=years[0], end=years[-1],\n",
    "              value=1, step=5, title=\"Year\",\n",
    "              callback=callback\n",
    "              )\n",
    "callback.args[\"renderer_source\"] = renderer_source\n",
    "callback.args[\"text_source\"] = text_source\n",
    "callback.args[\"slider\"] = slider\n"
   ]
  },
  {
   "cell_type": "code",
   "execution_count": null,
   "metadata": {},
   "outputs": [],
   "source": [
    "from bokeh.layouts import layout\n",
    "show(layout([[plot], [slider]], sizing_mode='scale_width'))"
   ]
  },
  {
   "cell_type": "code",
   "execution_count": null,
   "metadata": {
    "collapsed": true
   },
   "outputs": [],
   "source": []
  }
 ],
 "metadata": {
  "kernelspec": {
   "display_name": "Python 3",
   "language": "python",
   "name": "python3"
  },
  "language_info": {
   "codemirror_mode": {
    "name": "ipython",
    "version": 3
   },
   "file_extension": ".py",
   "mimetype": "text/x-python",
   "name": "python",
   "nbconvert_exporter": "python",
   "pygments_lexer": "ipython3",
   "version": "3.6.1"
  }
 },
 "nbformat": 4,
 "nbformat_minor": 2
}
