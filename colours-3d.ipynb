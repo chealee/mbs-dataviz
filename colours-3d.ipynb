{
 "cells": [
  {
   "cell_type": "markdown",
   "metadata": {},
   "source": [
    "Reference: (Lonsdale et. al., 2013, http://journals.plos.org/plosone/article?id=10.1371/journal.pone.0062726)  \n",
    "\n",
    "This is based on a notebook and research by Edmund Lau.\n",
    "\n",
    "Each 3D trajectory in represents the colour change (trajectory in RGB) of a colorimetric sensor array spot in response to bacterial growth."
   ]
  },
  {
   "cell_type": "code",
   "execution_count": 1,
   "metadata": {
    "collapsed": true
   },
   "outputs": [],
   "source": [
    "import matplotlib.pyplot as plt\n",
    "import matplotlib.animation as animation\n",
    "from mpl_toolkits.mplot3d import Axes3D\n",
    "%matplotlib inline\n",
    "\n",
    "plt.rcParams['animation.html'] = 'html5'"
   ]
  },
  {
   "cell_type": "code",
   "execution_count": 3,
   "metadata": {
    "collapsed": true
   },
   "outputs": [],
   "source": [
    "curves = np.load('data/color-paths.npy')"
   ]
  },
  {
   "cell_type": "markdown",
   "metadata": {},
   "source": [
    "# The law of common fate\n",
    "\n",
    "Our visual system groups together objects that are moving together in a scene. Watch how you effortlessly group together the spots that move in similar directions.\n",
    "\n",
    "We are going to use the `matplotlib.animation.FuncAnimation` API. This takes a function with frame number as the first argument, optionally other arguments, and then produces a frame. Read more at http://matplotlib.org/api/animation_api.html and https://matplotlib.org/mpl_toolkits/mplot3d/tutorial.html."
   ]
  },
  {
   "cell_type": "code",
   "execution_count": null,
   "metadata": {
    "collapsed": true
   },
   "outputs": [],
   "source": [
    "interval = 20\n",
    "\n",
    "def animate_points(frame_i, ax, curves, time_text):\n",
    "    # we are re-using the same axis, so remove previous points\n",
    "    # or the full path appears as \"trails\"\n",
    "    ax.collections.clear()\n",
    "    for i, coords in enumerate(curves):\n",
    "        ax.scatter3D(coords[frame_i, 0], coords[frame_i, 1],\n",
    "                     coords[frame_i, 2], c='C0')\n",
    "    time_text.set_text(f'{frame_i * interval} min')\n",
    "    return ax"
   ]
  },
  {
   "cell_type": "code",
   "execution_count": null,
   "metadata": {},
   "outputs": [],
   "source": [
    "fig = plt.figure(figsize=(8, 8))\n",
    "ax = fig.add_subplot(111, projection='3d')\n",
    "\n",
    "for i, func in enumerate([ax.set_xlim, ax.set_ylim, ax.set_zlim]):\n",
    "    func(np.min(curves[..., i]), np.max(curves[..., i]))\n",
    "\n",
    "ax.set_xlabel('r')\n",
    "ax.set_ylabel('g')\n",
    "ax.set_zlabel('b')\n",
    "\n",
    "time_text = ax.text3D(ax.get_xlim3d()[-1], \n",
    "                      ax.get_ylim3d()[-1], \n",
    "                      ax.get_zlim3d()[-1],\n",
    "                      '',\n",
    "                      size=20)\n",
    "\n",
    "ani = animation.FuncAnimation(fig, animate_points, \n",
    "                              frames=curves.shape[1], \n",
    "                              fargs=(ax, curves, time_text), \n",
    "                              interval=100)\n",
    "\n",
    "# ani.save('rgb-trajectories-no-guides.mp4') \n",
    "ani"
   ]
  },
  {
   "cell_type": "markdown",
   "metadata": {},
   "source": [
    "# Common fate + similarity\n",
    "\n",
    "Now, we can add colour information, to see the points changing colour together as they move."
   ]
  },
  {
   "cell_type": "code",
   "execution_count": null,
   "metadata": {
    "collapsed": true
   },
   "outputs": [],
   "source": [
    "interval = 20\n",
    "\n",
    "def animate_points_colour(frame_i, ax, curves, time_text):\n",
    "    ax.collections.clear()\n",
    "    for i, coords in enumerate(curves):\n",
    "        ax.scatter3D(coords[frame_i, 0], coords[frame_i, 1],\n",
    "                     coords[frame_i, 2], c=coords[frame_i])\n",
    "    time_text.set_text(f'{frame_i * interval} min')\n",
    "    return ax"
   ]
  },
  {
   "cell_type": "code",
   "execution_count": null,
   "metadata": {},
   "outputs": [],
   "source": [
    "fig = plt.figure(figsize=(8, 8))\n",
    "ax = fig.add_subplot(111, projection='3d')\n",
    "\n",
    "for i, func in enumerate([ax.set_xlim, ax.set_ylim, ax.set_zlim]):\n",
    "    func(np.min(curves[..., i]), np.max(curves[..., i]))\n",
    "\n",
    "ax.set_xlabel('r')\n",
    "ax.set_ylabel('g')\n",
    "ax.set_zlabel('b')\n",
    "\n",
    "time_text = ax.text3D(ax.get_xlim3d()[-1], \n",
    "                      ax.get_ylim3d()[-1], \n",
    "                      ax.get_zlim3d()[-1],\n",
    "                      '',\n",
    "                      size=20)\n",
    "\n",
    "ani = animation.FuncAnimation(fig, animate_points_colour, \n",
    "                              frames=curves.shape[1], \n",
    "                              fargs=(ax, curves, time_text), \n",
    "                              interval=100)\n",
    "# ani.save('rgb-scatter-with-colour.mp4')\n",
    "ani"
   ]
  },
  {
   "cell_type": "markdown",
   "metadata": {},
   "source": [
    "# Parallelism\n",
    "\n",
    "Like common fate, but frozen in time. Note how no information other than some gray lines makes you automatically group them together."
   ]
  },
  {
   "cell_type": "code",
   "execution_count": null,
   "metadata": {},
   "outputs": [],
   "source": [
    "fig = plt.figure(figsize=(8, 8))\n",
    "ax = fig.add_subplot(111, projection='3d')\n",
    "ax.set_xlabel('r')\n",
    "ax.set_ylabel('g')\n",
    "ax.set_zlabel('b')\n",
    "\n",
    "for curve in curves:\n",
    "    ax.plot3D(xs=curve[:, 0], ys=curve[:, 1], zs=curve[:, 2],\n",
    "              alpha=0.3, color='black')\n",
    "fig.savefig('3D trajectories no colour.png', dpi=300) "
   ]
  },
  {
   "cell_type": "markdown",
   "metadata": {},
   "source": [
    "# Parallelism + common fate\n",
    "\n",
    "We can trace the points' trajectories in the animation to enhance the grouping effect."
   ]
  },
  {
   "cell_type": "code",
   "execution_count": null,
   "metadata": {
    "collapsed": true
   },
   "outputs": [],
   "source": [
    "interval = 20\n",
    "\n",
    "def animate_parametric_curves(frame_i, ax, curves, lines, time_text):\n",
    "    ax.collections.clear()\n",
    "    for i, coords in enumerate(curves):\n",
    "        line = lines[i]\n",
    "        line.set_data(coords[:frame_i, 0], coords[:frame_i, 1])\n",
    "        line.set_3d_properties(coords[:frame_i, 2])\n",
    "        ax.scatter3D(coords[frame_i, 0], coords[frame_i, 1],\n",
    "                     coords[frame_i, 2], c = coords[frame_i])\n",
    "    time_text.set_text(f'{frame_i * interval} min')\n",
    "    return ax"
   ]
  },
  {
   "cell_type": "code",
   "execution_count": null,
   "metadata": {
    "collapsed": true
   },
   "outputs": [],
   "source": [
    "fig = plt.figure(figsize=(8, 8))\n",
    "ax = fig.add_subplot(111, projection='3d')\n",
    "\n",
    "for i, func in enumerate([ax.set_xlim, ax.set_ylim, ax.set_zlim]):\n",
    "    func(np.min(curves[..., i]), np.max(curves[..., i]))\n",
    "\n",
    "ax.set_xlabel('r')\n",
    "ax.set_ylabel('g')\n",
    "ax.set_zlabel('b')\n",
    "\n",
    "time_text = ax.text3D(ax.get_xlim3d()[-1], \n",
    "                      ax.get_ylim3d()[-1], \n",
    "                      ax.get_zlim3d()[-1],\n",
    "                      '',\n",
    "                      size=20)\n",
    "\n",
    "lines = [ax.plot3D(coords[0:1, 0], coords[0:1, 1], coords[0:1, 2],\n",
    "                   lw=0.5, alpha=0.5, color='black')[0] \n",
    "         for coords in curves]\n",
    "\n",
    "\n",
    "ani = animation.FuncAnimation(fig, animate_parametric_curves, \n",
    "                              frames=curves.shape[1], \n",
    "                              fargs=(ax, curves, lines, time_text), \n",
    "                              interval=100)\n",
    "\n",
    "# ani.save('trails.mp4') \n",
    "ani"
   ]
  },
  {
   "cell_type": "markdown",
   "metadata": {},
   "source": [
    "## Exercise\n",
    "\n",
    "- modify the code above to show all past point positions as they move through the space. This can indicate the speed at each position."
   ]
  },
  {
   "cell_type": "markdown",
   "metadata": {},
   "source": [
    "# Paralellism and similarity\n",
    "\n",
    "We can colour to enhance the similarity between different curves."
   ]
  },
  {
   "cell_type": "code",
   "execution_count": null,
   "metadata": {},
   "outputs": [],
   "source": [
    "fig = plt.figure(figsize=(8, 8))\n",
    "ax = fig.add_subplot(111, projection='3d')\n",
    "ax.set_xlabel('r')\n",
    "ax.set_ylabel('g')\n",
    "ax.set_zlabel('b')\n",
    "\n",
    "for curve in curves:\n",
    "    ax.scatter3D(xs=curve[:, 0], ys=curve[:, 1], zs=curve[:, 2],\n",
    "                 c=curve, depthshade=False)\n",
    "    ax.plot3D(xs=curve[:, 0], ys=curve[:, 1], zs=curve[:, 2],\n",
    "              alpha=0.3, color='black')\n",
    "fig.savefig('3D trajectories.png', dpi=300) "
   ]
  },
  {
   "cell_type": "markdown",
   "metadata": {},
   "source": [
    "## Exercises"
   ]
  },
  {
   "cell_type": "markdown",
   "metadata": {},
   "source": [
    "- Use the Gapminder five year dataset to show the trajectories of countries' life expectancy vs GDP over time. Colour the countries by region and size them by log(population).\n",
    "- Add interpolation to the dataset to produce values for intermediate years. (See [here](https://stackoverflow.com/questions/41854578/using-pandas-dataframe-interpolate-to-add-rows-to-dataframe), [here](http://pandas.pydata.org/pandas-docs/stable/generated/pandas.Series.interpolate.html) and [here](https://pandas.pydata.org/pandas-docs/stable/missing_data.html).)\n",
    "- Add streaks (or remove them).\n",
    "- Plot just the trajectories (no colour or animation) of a few selected countries to illustrate parallelism. *Hint:* South-East Asian countries had very different trajectories to many African countries."
   ]
  },
  {
   "cell_type": "code",
   "execution_count": null,
   "metadata": {
    "collapsed": true
   },
   "outputs": [],
   "source": []
  },
  {
   "cell_type": "markdown",
   "metadata": {},
   "source": [
    "- Produce an animated scatterplot of the cars dataset, with each year representing a frame (keeping all prior years on the frame)."
   ]
  },
  {
   "cell_type": "code",
   "execution_count": null,
   "metadata": {
    "collapsed": true
   },
   "outputs": [],
   "source": []
  }
 ],
 "metadata": {
  "kernelspec": {
   "display_name": "Python 3",
   "language": "python",
   "name": "python3"
  },
  "language_info": {
   "codemirror_mode": {
    "name": "ipython",
    "version": 3
   },
   "file_extension": ".py",
   "mimetype": "text/x-python",
   "name": "python",
   "nbconvert_exporter": "python",
   "pygments_lexer": "ipython3",
   "version": "3.6.1"
  }
 },
 "nbformat": 4,
 "nbformat_minor": 2
}
